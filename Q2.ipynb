{
 "cells": [
  {
   "cell_type": "code",
   "execution_count": 8,
   "metadata": {},
   "outputs": [
    {
     "name": "stdout",
     "output_type": "stream",
     "text": [
      "6\n"
     ]
    }
   ],
   "source": [
    "def revword(word:str):\n",
    "            return word.lower()[::-1]\n",
    "             \n",
    "\n",
    "        \n",
    "def countword():\n",
    "    text = open(\"text.txt\",\"r\")\n",
    "    count = 0\n",
    "    number_line = 0\n",
    "    for line in text:\n",
    "        words = line.split()\n",
    "        number_line = number_line + 1\n",
    "        if number_line == 1:\n",
    "            first_word = words[0].lower().strip()\n",
    "            count = count + 1\n",
    "                    \n",
    "        else:\n",
    "            for every_word in words :\n",
    "                word = revword(every_word)\n",
    "                if word == first_word:\n",
    "                    count = count + 1\n",
    "                \n",
    "                   \n",
    "    print(count)\n",
    "\n",
    "countword()\n",
    "\n"
   ]
  },
  {
   "cell_type": "code",
   "execution_count": null,
   "metadata": {},
   "outputs": [],
   "source": []
  },
  {
   "cell_type": "code",
   "execution_count": null,
   "metadata": {},
   "outputs": [],
   "source": []
  }
 ],
 "metadata": {
  "kernelspec": {
   "display_name": "Python 3",
   "language": "python",
   "name": "python3"
  },
  "language_info": {
   "codemirror_mode": {
    "name": "ipython",
    "version": 3
   },
   "file_extension": ".py",
   "mimetype": "text/x-python",
   "name": "python",
   "nbconvert_exporter": "python",
   "pygments_lexer": "ipython3",
   "version": "3.8.5"
  }
 },
 "nbformat": 4,
 "nbformat_minor": 4
}
